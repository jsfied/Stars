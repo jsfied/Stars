{
 "cells": [
  {
   "cell_type": "code",
   "execution_count": 1,
   "metadata": {},
   "outputs": [],
   "source": [
    "#import pandas library\n",
    "import pandas as pd\n",
    "import numpy as np\n",
    "import matplotlib.pyplot as plt"
   ]
  },
  {
   "cell_type": "code",
   "execution_count": 2,
   "metadata": {},
   "outputs": [],
   "source": [
    "data = pd.read_excel('Pokerr.xlsx', sheet_name='Data 10_005_01')"
   ]
  },
  {
   "cell_type": "code",
   "execution_count": 3,
   "metadata": {},
   "outputs": [
    {
     "data": {
      "text/html": [
       "<div>\n",
       "<style scoped>\n",
       "    .dataframe tbody tr th:only-of-type {\n",
       "        vertical-align: middle;\n",
       "    }\n",
       "\n",
       "    .dataframe tbody tr th {\n",
       "        vertical-align: top;\n",
       "    }\n",
       "\n",
       "    .dataframe thead th {\n",
       "        text-align: right;\n",
       "    }\n",
       "</style>\n",
       "<table border=\"1\" class=\"dataframe\">\n",
       "  <thead>\n",
       "    <tr style=\"text-align: right;\">\n",
       "      <th></th>\n",
       "      <th>Gnr</th>\n",
       "      <th>Hand</th>\n",
       "      <th>Pos</th>\n",
       "      <th>P1</th>\n",
       "      <th>C1</th>\n",
       "      <th>R1</th>\n",
       "      <th>P2</th>\n",
       "      <th>C2</th>\n",
       "      <th>R2</th>\n",
       "      <th>W</th>\n",
       "      <th>P</th>\n",
       "    </tr>\n",
       "  </thead>\n",
       "  <tbody>\n",
       "    <tr>\n",
       "      <td>0</td>\n",
       "      <td>1</td>\n",
       "      <td>96 s</td>\n",
       "      <td>8</td>\n",
       "      <td>25.0</td>\n",
       "      <td>10.0</td>\n",
       "      <td>NaN</td>\n",
       "      <td>100.0</td>\n",
       "      <td>50.0</td>\n",
       "      <td>NaN</td>\n",
       "      <td>0.0</td>\n",
       "      <td>-64.0</td>\n",
       "    </tr>\n",
       "    <tr>\n",
       "      <td>1</td>\n",
       "      <td>2</td>\n",
       "      <td>64 s</td>\n",
       "      <td>6</td>\n",
       "      <td>65.0</td>\n",
       "      <td>40.0</td>\n",
       "      <td>NaN</td>\n",
       "      <td>NaN</td>\n",
       "      <td>NaN</td>\n",
       "      <td>NaN</td>\n",
       "      <td>0.0</td>\n",
       "      <td>-195.0</td>\n",
       "    </tr>\n",
       "    <tr>\n",
       "      <td>2</td>\n",
       "      <td>3</td>\n",
       "      <td>AK</td>\n",
       "      <td>4</td>\n",
       "      <td>15.0</td>\n",
       "      <td>10.0</td>\n",
       "      <td>10.0</td>\n",
       "      <td>NaN</td>\n",
       "      <td>NaN</td>\n",
       "      <td>NaN</td>\n",
       "      <td>1.0</td>\n",
       "      <td>75.0</td>\n",
       "    </tr>\n",
       "    <tr>\n",
       "      <td>3</td>\n",
       "      <td>4</td>\n",
       "      <td>QJ</td>\n",
       "      <td>4</td>\n",
       "      <td>15.0</td>\n",
       "      <td>10.0</td>\n",
       "      <td>NaN</td>\n",
       "      <td>160.0</td>\n",
       "      <td>95.0</td>\n",
       "      <td>NaN</td>\n",
       "      <td>1.0</td>\n",
       "      <td>225.0</td>\n",
       "    </tr>\n",
       "    <tr>\n",
       "      <td>4</td>\n",
       "      <td>5</td>\n",
       "      <td>97 s</td>\n",
       "      <td>SB</td>\n",
       "      <td>45.0</td>\n",
       "      <td>25.0</td>\n",
       "      <td>NaN</td>\n",
       "      <td>NaN</td>\n",
       "      <td>NaN</td>\n",
       "      <td>NaN</td>\n",
       "      <td>0.0</td>\n",
       "      <td>-25.0</td>\n",
       "    </tr>\n",
       "  </tbody>\n",
       "</table>\n",
       "</div>"
      ],
      "text/plain": [
       "   Gnr  Hand Pos    P1    C1    R1     P2    C2  R2    W      P\n",
       "0    1  96 s   8  25.0  10.0   NaN  100.0  50.0 NaN  0.0  -64.0\n",
       "1    2  64 s   6  65.0  40.0   NaN    NaN   NaN NaN  0.0 -195.0\n",
       "2    3    AK   4  15.0  10.0  10.0    NaN   NaN NaN  1.0   75.0\n",
       "3    4    QJ   4  15.0  10.0   NaN  160.0  95.0 NaN  1.0  225.0\n",
       "4    5  97 s  SB  45.0  25.0   NaN    NaN   NaN NaN  0.0  -25.0"
      ]
     },
     "execution_count": 3,
     "metadata": {},
     "output_type": "execute_result"
    }
   ],
   "source": [
    "cl_data = data.iloc[:158]\n",
    "cl_data = cl_data.drop(columns=['Table'])\n",
    "cl_data.head()"
   ]
  },
  {
   "cell_type": "code",
   "execution_count": 4,
   "metadata": {},
   "outputs": [
    {
     "data": {
      "image/png": "[encoded data removed]",
      "text/plain": [
       "<Figure size 432x288 with 1 Axes>"
      ]
     },
     "metadata": {
      "needs_background": "light"
     },
     "output_type": "display_data"
    }
   ],
   "source": [
    "#create signs for bar\n",
    "bars = ('Lost', 'Won')\n",
    "\n",
    "# get grouped data\n",
    "height = cl_data.groupby('W')['Gnr'].count()\n",
    "#prepare y-axis\n",
    "y_pos = np.arange(len(bars))\n",
    " \n",
    "# Create bars\n",
    "plt.bar(y_pos, height)\n",
    " \n",
    "# Create names on the x-axis\n",
    "plt.xticks(y_pos, bars)\n",
    " \n",
    "# Show graphic\n",
    "plt.show()"
   ]
  },
  {
   "cell_type": "code",
   "execution_count": 5,
   "metadata": {},
   "outputs": [
    {
     "data": {
      "image/png": "[encoded data removed]",
      "text/plain": [
       "<Figure size 900x216 with 1 Axes>"
      ]
     },
     "metadata": {
      "needs_background": "light"
     },
     "output_type": "display_data"
    },
    {
     "data": {
      "image/png": "[encoded data removed]",
      "text/plain": [
       "<Figure size 900x216 with 1 Axes>"
      ]
     },
     "metadata": {
      "needs_background": "light"
     },
     "output_type": "display_data"
    }
   ],
   "source": [
    "# bars\n",
    "data_count = cl_data.groupby(['Pos','W'])['Gnr'].count().to_numpy()\n",
    "\n",
    "# width\n",
    "barWidth = 0.4\n",
    "plt.rcParams[\"figure.figsize\"] = (12.5,3)\n",
    " \n",
    "# Choose the height of the green bars\n",
    "bars2 = [data_count[16], data_count[12], data_count[0], data_count[2], data_count[4], data_count[6], data_count[8], data_count[10], data_count[14]]\n",
    " \n",
    "# Choose the height of the purple bars\n",
    "bars1 = [data_count[17], data_count[13], data_count[1], data_count[3], data_count[5], data_count[7], data_count[9], data_count[11], data_count[15]]\n",
    " \n",
    "# The x position of bars\n",
    "r1 = np.arange(len(bars1))\n",
    "r2 = [x + barWidth for x in r1]\n",
    " \n",
    "# Create gree bars\n",
    "plt.bar(r1, bars1, width = barWidth, color = 'xkcd:teal', edgecolor = 'black', capsize=7, label='Won')\n",
    " \n",
    "# Create purple\n",
    "plt.bar(r2, bars2, width = barWidth, color = 'xkcd:orchid', edgecolor = 'black', capsize=7, label='Lost')\n",
    " \n",
    "# general layout\n",
    "plt.xticks([r + barWidth-0.2 for r in range(len(bars1))], ['SB', 'BB', '3', '4', '5', '6', '7', '8', 'D'])\n",
    "plt.ylabel('count')\n",
    "plt.legend()\n",
    " \n",
    "# Show\n",
    "plt.show()\n",
    "\n",
    "#create signs for bar\n",
    "bars_sings = ('SB', 'BB', '3', '4', '5', '6', '7', '8', 'D')\n",
    "\n",
    "# get grouped data\n",
    "bars = cl_data.groupby(['Pos'])['P'].sum().to_numpy()\n",
    "order = [8,6,0,1,2,3,4,5,7]\n",
    "bars = bars[order]\n",
    "\n",
    "#prepare y-axis\n",
    "y_pos = np.arange(len(bars_sings))\n",
    " \n",
    "# Create bars\n",
    "plt.bar(y_pos, bars, edgecolor = 'black', capsize=7, label='Profit')\n",
    " \n",
    "# Create names on the x-axis\n",
    "plt.xticks(y_pos, bars_sings)\n",
    "plt.ylabel('sum')\n",
    "plt.legend()\n",
    " \n",
    "# Show graphic\n",
    "plt.show()"
   ]
  }
 ],
 "metadata": {
  "kernelspec": {
   "display_name": "Python 3",
   "language": "python",
   "name": "python3"
  },
  "language_info": {
   "codemirror_mode": {
    "name": "ipython",
    "version": 3
   },
   "file_extension": ".py",
   "mimetype": "text/x-python",
   "name": "python",
   "nbconvert_exporter": "python",
   "pygments_lexer": "ipython3",
   "version": "3.7.4"
  }
 },
 "nbformat": 4,
 "nbformat_minor": 2
}
